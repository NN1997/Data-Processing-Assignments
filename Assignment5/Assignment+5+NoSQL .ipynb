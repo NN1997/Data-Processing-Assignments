{
 "cells": [
  {
   "cell_type": "code",
   "execution_count": 87,
   "metadata": {},
   "outputs": [],
   "source": [
    "from unqlite import UnQLite\n",
    "\n",
    "db = UnQLite('sample.db')\n",
    "data = db.collection('data')"
   ]
  },
  {
   "cell_type": "code",
   "execution_count": 91,
   "metadata": {},
   "outputs": [],
   "source": [
    "# Graded Cell, PartID: o1flK\n",
    "\n",
    "def FindBusinessBasedOnCity(cityToSearch, saveLocation1, collection):\n",
    "    f = open(saveLocation1, \"w\")\n",
    "    results = collection.filter(lambda d: d['city'] == str(cityToSearch))\n",
    "    #print(results)\n",
    "    for r in results:\n",
    "        #print(r)\n",
    "        ToWrite = (r['name']+'$'+r['full_address']+'$'+r['city']+'$'+r['state']+' ')\n",
    "        #print(ToWrite)\n",
    "        f.write(ToWrite)\n",
    "        f.write(\"\\n\")\n",
    "    f.close()\n",
    "\n",
    "\n",
    "    \n",
    "\n",
    "#FindBusinessBasedOnCity(\"Tempe\",\"output_city.txt\",data)\n",
    "\n",
    "def FindBusinessBasedOnLocation(categoriesToSearch, myLocation, maxDistance, saveLocation2, collection):\n",
    "    from math import radians, sin, cos, acos\n",
    "    \n",
    "    lat1 = radians(float(myLocation[0]))\n",
    "    lon1 = radians(float(myLocation[1]))\n",
    "    f = open(saveLocation2, \"w\")\n",
    "    ToWrite = []\n",
    "    #print(categoriesToSearch)\n",
    "    for C in categoriesToSearch:\n",
    "        #print(C)\n",
    "        for i in collection:\n",
    "            for c in list(i['categories']):\n",
    "                #print(c)\n",
    "                if(str(c) == str(C)):\n",
    "                    #print(i)\n",
    "                    lat2 = radians(float(i['latitude']))\n",
    "                    lon2 = radians(float(i['longitude']))\n",
    "                    dist = 3959 * acos(sin(lat1)*sin(lat2) + cos(lat1)*cos(lat2)*cos(lon1 - lon2))\n",
    "                    if(dist <= maxDistance):\n",
    "                        ToWrite.append(i['name'])\n",
    "                        #ToWrite.append(\"\\n\")\n",
    "                    \n",
    "    ToWrite = list(dict.fromkeys(ToWrite))\n",
    "    for i in ToWrite:\n",
    "        f.write(i)\n",
    "        f.write(\"\\n\")\n",
    "    f.close()\n",
    "    \n",
    "#FindBusinessBasedOnLocation(['Food', 'Specialty Food'], [33.3482589, -111.9088346], 30, 'output_loc.txt', data)"
   ]
  },
  {
   "cell_type": "code",
   "execution_count": 95,
   "metadata": {},
   "outputs": [
    {
     "name": "stdout",
     "output_type": "stream",
     "text": [
      "Correct! You FindBusinessByCity function passes these test cases. This does not cover all possible test edge cases, however, so make sure that your function covers them before submitting!\n"
     ]
    }
   ],
   "source": [
    "true_results = [\"VinciTorio's Restaurant$1835 E Elliot Rd, Ste C109, Tempe, AZ 85284$Tempe$AZ\", \"P.croissants$7520 S Rural Rd, Tempe, AZ 85283$Tempe$AZ\", \"Salt Creek Home$1725 W Ruby Dr, Tempe, AZ 85284$Tempe$AZ\"]\n",
    "\n",
    "try:\n",
    "    FindBusinessBasedOnCity('Tempe', 'output_city.txt', data)\n",
    "except NameError as e:\n",
    "    print ('The FindBusinessBasedOnCity function is not defined! You must run the cell containing the function before running this evaluation cell.')\n",
    "except TypeError as e:\n",
    "    print (\"The FindBusinessBasedOnCity function is supposed to accept three arguments. Yours does not!\")\n",
    "    \n",
    "try:\n",
    "    opf = open('output_city.txt', 'r')\n",
    "except FileNotFoundError as e:\n",
    "    print (\"The FindBusinessBasedOnCity function does not write data to the correct location.\")\n",
    "\n",
    "opf = open('output_city.txt', 'r')    \n",
    "lines = opf.readlines()\n",
    "if len(lines) != 3:\n",
    "    print (\"The FindBusinessBasedOnCity function does not find the correct number of results, should be 3.\")\n",
    "    \n",
    "lines = [line.strip() for line in lines]\n",
    "if sorted(lines) == sorted(true_results):\n",
    "    print (\"Correct! You FindBusinessByCity function passes these test cases. This does not cover all possible test edge cases, however, so make sure that your function covers them before submitting!\")"
   ]
  },
  {
   "cell_type": "code",
   "execution_count": 94,
   "metadata": {},
   "outputs": [
    {
     "name": "stdout",
     "output_type": "stream",
     "text": [
      "Correct! Your FindBusinessBasedOnLocation function passes these test cases. This does not cover all possible edge cases, so make sure your function does before submitting.\n"
     ]
    }
   ],
   "source": [
    "true_results = ['Nothing Bundt Cakes', 'Olive Creations', 'P.croissants', 'The Seafood Market']\n",
    "\n",
    "try:\n",
    "    FindBusinessBasedOnLocation(['Food', 'Specialty Food'], [33.3482589, -111.9088346], 30, 'output_loc.txt', data)\n",
    "except NameError as e: \n",
    "    print ('The FindBusinessBasedOnLocation function is not defined! You must run the cell containing the function before running this evaluation cell.')\n",
    "except TypeError as e:\n",
    "    print (\"The FindBusinessBasedOnLocation function is supposed to accept five arguments. Yours does not!\")\n",
    "    \n",
    "try:\n",
    "    opf = open('output_loc.txt','r')\n",
    "except FileNotFoundError as e:\n",
    "    print (\"The FindBusinessBasedOnLocation function does not write data to the correct location.\")\n",
    "\n",
    "lines = opf.readlines()\n",
    "if len(lines) != 4:\n",
    "    print (\"The FindBusinessBasedOnLocation function does not find the correct number of results, should be only 1.\")\n",
    "\n",
    "if lines[0].strip() == true_results[0]:\n",
    "    print (\"Correct! Your FindBusinessBasedOnLocation function passes these test cases. This does not cover all possible edge cases, so make sure your function does before submitting.\")"
   ]
  }
 ],
 "metadata": {
  "kernelspec": {
   "display_name": "Python 3 (ipykernel)",
   "language": "python",
   "name": "python3"
  },
  "language_info": {
   "codemirror_mode": {
    "name": "ipython",
    "version": 3
   },
   "file_extension": ".py",
   "mimetype": "text/x-python",
   "name": "python",
   "nbconvert_exporter": "python",
   "pygments_lexer": "ipython3",
   "version": "3.9.2"
  }
 },
 "nbformat": 4,
 "nbformat_minor": 2
}
